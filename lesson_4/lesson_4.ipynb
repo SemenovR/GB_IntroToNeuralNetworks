{
 "cells": [
  {
   "cell_type": "markdown",
   "metadata": {},
   "source": [
    "# Введение в искусственные нейронные сети\n",
    "# Урок 5. Сверточные нейронные сети"
   ]
  },
  {
   "cell_type": "markdown",
   "metadata": {},
   "source": [
    "## Практическое задание\n",
    "\n",
    "<ol>\n",
    "    <li>Попробовать улучшить точность распознования образов cifar 10 сверточной нейронной сетью, рассмотренной на уроке. Приложить анализ с описанием того, что улучшает работу нейронной сети и что ухудшает.\n",
    "    </li>\n",
    "    <li>Описать также в анализе какие необоходимо внести изменения  в получившуюся у вас нейронную сеть если бы ей нужно было работать не с cifar10, а с MNIST, CIFAR100 и IMAGENET.\n",
    "    </li>\n",
    "</ol>"
   ]
  },
  {
   "cell_type": "code",
   "execution_count": 2,
   "metadata": {},
   "outputs": [],
   "source": [
    "from __future__ import print_function\n",
    "import keras # расскоментируйте эту строку, чтобы начать обучение\n",
    "from keras.datasets import cifar10\n",
    "from keras.preprocessing.image import ImageDataGenerator\n",
    "from keras.models import Sequential\n",
    "from keras.layers import Dense, Dropout, Activation, Flatten\n",
    "from keras.layers import Conv2D, MaxPooling2D\n",
    "import os"
   ]
  },
  {
   "cell_type": "code",
   "execution_count": 3,
   "metadata": {},
   "outputs": [],
   "source": [
    "import tensorflow as tf\n",
    "gpu_devices = tf.config.experimental.list_physical_devices('GPU')\n",
    "for device in gpu_devices:\n",
    "    tf.config.experimental.set_memory_growth(device, True)"
   ]
  },
  {
   "cell_type": "code",
   "execution_count": 5,
   "metadata": {},
   "outputs": [],
   "source": [
    "# установка параметров нейросети\n",
    "batch_size = 320 #32\n",
    "num_classes = 10\n",
    "epochs = 30 #1\n",
    "data_augmentation = False #True\n",
    "num_predictions = 20\n",
    "save_dir = os.path.join(os.getcwd(), 'saved_models')\n",
    "model_name = 'keras_cifar10_trained_model.h5'"
   ]
  },
  {
   "cell_type": "code",
   "execution_count": 6,
   "metadata": {},
   "outputs": [
    {
     "name": "stdout",
     "output_type": "stream",
     "text": [
      "x_train shape: (50000, 32, 32, 3)\n",
      "50000 тренировочные примеры\n",
      "10000 тестовые примеры\n"
     ]
    }
   ],
   "source": [
    "# разделение тренировочной и тестовой выборки\n",
    "(x_train, y_train), (x_test, y_test) = cifar10.load_data()\n",
    "print('x_train shape:', x_train.shape)\n",
    "print(x_train.shape[0], 'тренировочные примеры')\n",
    "print(x_test.shape[0], 'тестовые примеры')"
   ]
  },
  {
   "cell_type": "code",
   "execution_count": 7,
   "metadata": {},
   "outputs": [],
   "source": [
    "# преобразование матрицы чисел 0-9 в бинарную матрицу чисел 0-1\n",
    "y_train = keras.utils.to_categorical(y_train, num_classes)\n",
    "y_test = keras.utils.to_categorical(y_test, num_classes)"
   ]
  },
  {
   "cell_type": "code",
   "execution_count": 8,
   "metadata": {
    "scrolled": true
   },
   "outputs": [
    {
     "name": "stdout",
     "output_type": "stream",
     "text": [
      "Не используется data augmentation\n",
      "Epoch 1/30\n",
      "157/157 [==============================] - 24s 154ms/step - loss: 1.9186 - accuracy: 0.2809 - val_loss: 1.5531 - val_accuracy: 0.4323\n",
      "Epoch 2/30\n",
      "157/157 [==============================] - 12s 74ms/step - loss: 1.4265 - accuracy: 0.4777 - val_loss: 1.2208 - val_accuracy: 0.5596\n",
      "Epoch 3/30\n",
      "157/157 [==============================] - 12s 74ms/step - loss: 1.1819 - accuracy: 0.5771 - val_loss: 1.0549 - val_accuracy: 0.6175\n",
      "Epoch 4/30\n",
      "157/157 [==============================] - 12s 74ms/step - loss: 1.0381 - accuracy: 0.6326 - val_loss: 0.9339 - val_accuracy: 0.6696\n",
      "Epoch 5/30\n",
      "157/157 [==============================] - 12s 74ms/step - loss: 0.9252 - accuracy: 0.6727 - val_loss: 0.8685 - val_accuracy: 0.6956\n",
      "Epoch 6/30\n",
      "157/157 [==============================] - 12s 74ms/step - loss: 0.8622 - accuracy: 0.6941 - val_loss: 0.8007 - val_accuracy: 0.7239\n",
      "Epoch 7/30\n",
      "157/157 [==============================] - 12s 74ms/step - loss: 0.7814 - accuracy: 0.7254 - val_loss: 0.7765 - val_accuracy: 0.7262\n",
      "Epoch 8/30\n",
      "157/157 [==============================] - 12s 74ms/step - loss: 0.7273 - accuracy: 0.7457 - val_loss: 0.7171 - val_accuracy: 0.7520\n",
      "Epoch 9/30\n",
      "157/157 [==============================] - 12s 74ms/step - loss: 0.6708 - accuracy: 0.7669 - val_loss: 0.6858 - val_accuracy: 0.7645\n",
      "Epoch 10/30\n",
      "157/157 [==============================] - 12s 75ms/step - loss: 0.6305 - accuracy: 0.7810 - val_loss: 0.6765 - val_accuracy: 0.7691\n",
      "Epoch 11/30\n",
      "157/157 [==============================] - 12s 75ms/step - loss: 0.5993 - accuracy: 0.7932 - val_loss: 0.7113 - val_accuracy: 0.7520\n",
      "Epoch 12/30\n",
      "157/157 [==============================] - 12s 75ms/step - loss: 0.5658 - accuracy: 0.8033 - val_loss: 0.6354 - val_accuracy: 0.7850\n",
      "Epoch 13/30\n",
      "157/157 [==============================] - 12s 75ms/step - loss: 0.5411 - accuracy: 0.8110 - val_loss: 0.6154 - val_accuracy: 0.7899\n",
      "Epoch 14/30\n",
      "157/157 [==============================] - 12s 75ms/step - loss: 0.5132 - accuracy: 0.8226 - val_loss: 0.6082 - val_accuracy: 0.7972\n",
      "Epoch 15/30\n",
      "157/157 [==============================] - 12s 75ms/step - loss: 0.4960 - accuracy: 0.8269 - val_loss: 0.5887 - val_accuracy: 0.8031\n",
      "Epoch 16/30\n",
      "157/157 [==============================] - 12s 75ms/step - loss: 0.4687 - accuracy: 0.8362 - val_loss: 0.5867 - val_accuracy: 0.8029\n",
      "Epoch 17/30\n",
      "157/157 [==============================] - 12s 75ms/step - loss: 0.4580 - accuracy: 0.8399 - val_loss: 0.5386 - val_accuracy: 0.8223\n",
      "Epoch 18/30\n",
      "157/157 [==============================] - 12s 75ms/step - loss: 0.4297 - accuracy: 0.8507 - val_loss: 0.5676 - val_accuracy: 0.8139\n",
      "Epoch 19/30\n",
      "157/157 [==============================] - 12s 75ms/step - loss: 0.4215 - accuracy: 0.8529 - val_loss: 0.5626 - val_accuracy: 0.8123\n",
      "Epoch 20/30\n",
      "157/157 [==============================] - 12s 75ms/step - loss: 0.4104 - accuracy: 0.8562 - val_loss: 0.5568 - val_accuracy: 0.8186\n",
      "Epoch 21/30\n",
      "157/157 [==============================] - 12s 75ms/step - loss: 0.3959 - accuracy: 0.8626 - val_loss: 0.5615 - val_accuracy: 0.8178\n",
      "Epoch 22/30\n",
      "157/157 [==============================] - 12s 75ms/step - loss: 0.3784 - accuracy: 0.8679 - val_loss: 0.5702 - val_accuracy: 0.8163\n",
      "Epoch 23/30\n",
      "157/157 [==============================] - 12s 75ms/step - loss: 0.3731 - accuracy: 0.8691 - val_loss: 0.5471 - val_accuracy: 0.8223\n",
      "Epoch 24/30\n",
      "157/157 [==============================] - 12s 75ms/step - loss: 0.3607 - accuracy: 0.8740 - val_loss: 0.5710 - val_accuracy: 0.8196\n",
      "Epoch 25/30\n",
      "157/157 [==============================] - 12s 75ms/step - loss: 0.3469 - accuracy: 0.8784 - val_loss: 0.5821 - val_accuracy: 0.8136\n",
      "Epoch 26/30\n",
      "157/157 [==============================] - 12s 75ms/step - loss: 0.3441 - accuracy: 0.8809 - val_loss: 0.5980 - val_accuracy: 0.8158\n",
      "Epoch 27/30\n",
      "157/157 [==============================] - 12s 75ms/step - loss: 0.3290 - accuracy: 0.8853 - val_loss: 0.5683 - val_accuracy: 0.8239\n",
      "Epoch 28/30\n",
      "157/157 [==============================] - 12s 76ms/step - loss: 0.3179 - accuracy: 0.8882 - val_loss: 0.5619 - val_accuracy: 0.8247\n",
      "Epoch 29/30\n",
      "157/157 [==============================] - 12s 76ms/step - loss: 0.3161 - accuracy: 0.8882 - val_loss: 0.5530 - val_accuracy: 0.8281\n",
      "Epoch 30/30\n",
      "157/157 [==============================] - 12s 75ms/step - loss: 0.3018 - accuracy: 0.8938 - val_loss: 0.5541 - val_accuracy: 0.8288\n",
      "CPU times: user 4min 25s, sys: 17.9 s, total: 4min 43s\n",
      "Wall time: 6min 23s\n"
     ]
    }
   ],
   "source": [
    "%%time\n",
    "# конфигурирование слоев нейросети\n",
    "model = Sequential()\n",
    "\n",
    "# слои нейросети отвественные за свертку и max-pooling\n",
    "model.add(Conv2D(256, (3, 3), padding='same',\n",
    "                 input_shape=x_train.shape[1:]))\n",
    "model.add(Activation('relu'))\n",
    "model.add(Conv2D(256, (3, 3)))\n",
    "model.add(Activation('relu'))\n",
    "model.add(MaxPooling2D(pool_size=(2, 2)))\n",
    "model.add(Dropout(0.25))\n",
    "\n",
    "model.add(Conv2D(128, (3, 3), padding='same'))\n",
    "model.add(Activation('relu'))\n",
    "model.add(Conv2D(128, (3, 3)))\n",
    "model.add(Activation('relu'))\n",
    "model.add(MaxPooling2D(pool_size=(2, 2)))\n",
    "model.add(Dropout(0.25))\n",
    "\n",
    "model.add(Conv2D(64, (3, 3), padding='same'))\n",
    "model.add(Activation('relu'))\n",
    "model.add(Conv2D(64, (3, 3)))\n",
    "model.add(Activation('relu'))\n",
    "model.add(MaxPooling2D(pool_size=(2, 2)))\n",
    "model.add(Dropout(0.25))\n",
    "\n",
    "# полносвязные слои нейронной сети\n",
    "model.add(Flatten())\n",
    "model.add(Dense(512))\n",
    "model.add(Activation('relu'))\n",
    "model.add(Dropout(0.5))\n",
    "model.add(Dense(num_classes))\n",
    "model.add(Activation('softmax'))\n",
    "\n",
    "# инициализация RMSprop optimizer\n",
    "#opt = keras.optimizers.RMSprop(lr=0.0001, decay=1e-6)\n",
    "\n",
    "# компиляция модели\n",
    "model.compile(loss='categorical_crossentropy',\n",
    "              optimizer='Adam', #opt,\n",
    "              metrics=['accuracy'])\n",
    "\n",
    "x_train = x_train.astype('float32')\n",
    "x_test = x_test.astype('float32')\n",
    "x_train /= 255\n",
    "x_test /= 255\n",
    "\n",
    "if not data_augmentation:\n",
    "    print('Не используется data augmentation')\n",
    "    model.fit(x_train, y_train,\n",
    "              batch_size=batch_size,\n",
    "              epochs=epochs,\n",
    "              validation_data=(x_test, y_test),\n",
    "              shuffle=True)\n",
    "else:\n",
    "    print('Использование data augmentation в реальном времени')\n",
    "    # Препроцессинг и data augmentation в реальном времени:\n",
    "    datagen = ImageDataGenerator(\n",
    "        featurewise_center=False,\n",
    "        samplewise_center=False,\n",
    "        featurewise_std_normalization=False,\n",
    "        samplewise_std_normalization=False,\n",
    "        zca_whitening=False, \n",
    "        zca_epsilon=1e-06, \n",
    "        rotation_range=0, \n",
    "        width_shift_range=0.1,\n",
    "        height_shift_range=0.1,\n",
    "        shear_range=0., \n",
    "        zoom_range=0., \n",
    "        channel_shift_range=0.,\n",
    "        fill_mode='nearest',\n",
    "        cval=0.,\n",
    "        horizontal_flip=True,\n",
    "        vertical_flip=False,\n",
    "        rescale=None,\n",
    "        preprocessing_function=None,\n",
    "        data_format=None,\n",
    "        validation_split=0.0)\n",
    "\n",
    "    # запуск data augmentation через fit\n",
    "    #datagen.fit(x_train)\n",
    "\n",
    "    # запуск data augmentation через fit_generator\n",
    "    model.fit_generator(datagen.flow(x_train, y_train,\n",
    "                                     batch_size=batch_size),\n",
    "                        epochs=epochs,\n",
    "                        validation_data=(x_test, y_test),\n",
    "                        workers=4)\n"
   ]
  },
  {
   "cell_type": "code",
   "execution_count": 9,
   "metadata": {},
   "outputs": [],
   "source": [
    "# сохранение модели и весов\n",
    "if not os.path.isdir(save_dir):\n",
    "    os.makedirs(save_dir)\n",
    "model_path = os.path.join(save_dir, model_name)\n",
    "model.save(model_path)\n",
    "print('сохранить обученную модель как %s ' % model_path)"
   ]
  },
  {
   "cell_type": "code",
   "execution_count": 10,
   "metadata": {},
   "outputs": [
    {
     "name": "stdout",
     "output_type": "stream",
     "text": [
      "313/313 [==============================] - 9s 29ms/step - loss: 0.5541 - accuracy: 0.8288\n",
      "Test loss: 0.5540534853935242\n",
      "Test accuracy: 0.8288000226020813\n"
     ]
    }
   ],
   "source": [
    "# проверка работы обученной модели\n",
    "scores = model.evaluate(x_test, y_test, verbose=1)\n",
    "print('Test loss:', scores[0])\n",
    "print('Test accuracy:', scores[1])"
   ]
  },
  {
   "cell_type": "markdown",
   "metadata": {},
   "source": [
    "### Выводы:\n",
    "1. Если просто увеличить количестов эпох, то результаты улучшаются, но до определённого момента, после которого точность уже не растёт - выходит на плато.<br>\n",
    "Если же увеличить batch_size, то вырастает скорость (расчёт вёлся на GPU), но зато падает точность. Для компенсации падения точности можно увеличить число эпох и тогда соотношение качество/ед.веремени будет больше. Т.е. за единицу времени потраченного на обучение получаем большее качество модели при большом batch_size и большом числе эпох.<br>\n",
    "augmentation работает непропорционально долго. Теоретичестки с augmentation можно получить большее качество, но не всегда потраченное на неё время этого стоит.<br>\n",
    "Изменил метод оптимизации на Adam - качество улучшилось.<br>\n",
    "Добавил ещё один слой и увеличил число нейронов во внутренних слоях по обратной пирамиде (256, 128, 64) - качество ещё подросло.\n",
    "2. Для MNIST, CIFAR100 и IMAGENET необходимо поменять число входных и выходных нейронов, т.к. размеры исходных картинок и количество искомых категорий в этих датасетах различное."
   ]
  },
  {
   "cell_type": "code",
   "execution_count": null,
   "metadata": {},
   "outputs": [],
   "source": []
  }
 ],
 "metadata": {
  "kernelspec": {
   "display_name": "Python 3",
   "language": "python",
   "name": "python3"
  },
  "language_info": {
   "codemirror_mode": {
    "name": "ipython",
    "version": 3
   },
   "file_extension": ".py",
   "mimetype": "text/x-python",
   "name": "python",
   "nbconvert_exporter": "python",
   "pygments_lexer": "ipython3",
   "version": "3.8.5"
  }
 },
 "nbformat": 4,
 "nbformat_minor": 4
}
