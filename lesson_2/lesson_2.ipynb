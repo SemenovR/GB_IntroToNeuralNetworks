{
 "cells": [
  {
   "cell_type": "markdown",
   "metadata": {},
   "source": [
    "# Урок 2. Keras"
   ]
  },
  {
   "cell_type": "markdown",
   "metadata": {},
   "source": [
    "## Практическое задание\n",
    "\n",
    "<ol>\n",
    "    <li>Попробуйте обучить, нейронную сеть на Keras(рассмотренную на уроке) на датасете MNIST с другими параметрами. \n",
    "        Опишите в комментарии к уроку - какой результата вы добились от нейросети? Что помогло вам улучшить ее точность?</li>\n",
    "    <li>Поработайте с документацией Keras. Попробуйте найти полезные команды Keras неразобранные на уроке.</li>\n",
    "</ol>"
   ]
  },
  {
   "cell_type": "code",
   "execution_count": 67,
   "metadata": {},
   "outputs": [],
   "source": [
    "import numpy as np\n",
    "import mnist\n",
    "\n",
    "from keras.models import Sequential\n",
    "from keras.layers import Dense\n",
    "from keras.utils import to_categorical\n",
    "from keras.callbacks import EarlyStopping\n",
    "from keras import backend"
   ]
  },
  {
   "cell_type": "code",
   "execution_count": 68,
   "metadata": {},
   "outputs": [],
   "source": [
    "# Load\n",
    "train_images = mnist.train_images()\n",
    "train_labels = mnist.train_labels()\n",
    "test_images = mnist.test_images()\n",
    "test_labels = mnist.test_labels()\n",
    "\n",
    "# Normalize the images.\n",
    "train_images = (train_images / 255) - 0.5\n",
    "test_images = (test_images / 255) - 0.5\n",
    "\n",
    "# Flatten the images.\n",
    "train_images = train_images.reshape((-1, 784))\n",
    "test_images = test_images.reshape((-1, 784))"
   ]
  },
  {
   "cell_type": "code",
   "execution_count": 69,
   "metadata": {},
   "outputs": [
    {
     "name": "stdout",
     "output_type": "stream",
     "text": [
      "Model: \"sequential_8\"\n",
      "_________________________________________________________________\n",
      "Layer (type)                 Output Shape              Param #   \n",
      "=================================================================\n",
      "dense_29 (Dense)             (None, 128)               100480    \n",
      "_________________________________________________________________\n",
      "dense_30 (Dense)             (None, 64)                8256      \n",
      "_________________________________________________________________\n",
      "dense_31 (Dense)             (None, 10)                650       \n",
      "=================================================================\n",
      "Total params: 109,386\n",
      "Trainable params: 109,386\n",
      "Non-trainable params: 0\n",
      "_________________________________________________________________\n"
     ]
    }
   ],
   "source": [
    "# Build the model.\n",
    "model = Sequential([\n",
    "    Dense(128, activation='relu', input_shape=(784,)),\n",
    "    Dense(64, activation='relu'),\n",
    "    Dense(10, activation='softmax'),\n",
    "])\n",
    "\n",
    "model.summary()"
   ]
  },
  {
   "cell_type": "code",
   "execution_count": 70,
   "metadata": {},
   "outputs": [],
   "source": [
    "# Compile the model.\n",
    "model.compile(\n",
    "    optimizer='adam',\n",
    "    loss='categorical_crossentropy',\n",
    "    metrics=['accuracy'],\n",
    ")"
   ]
  },
  {
   "cell_type": "code",
   "execution_count": 71,
   "metadata": {},
   "outputs": [
    {
     "name": "stdout",
     "output_type": "stream",
     "text": [
      "Epoch 1/30\n",
      "60000/60000 [==============================] - 4s 64us/step - loss: 0.3219 - accuracy: 0.9027\n",
      "Epoch 2/30\n",
      "60000/60000 [==============================] - 4s 67us/step - loss: 0.1625 - accuracy: 0.9503\n",
      "Epoch 3/30\n",
      "60000/60000 [==============================] - 4s 65us/step - loss: 0.1243 - accuracy: 0.9616\n",
      "Epoch 4/30\n",
      "60000/60000 [==============================] - 4s 62us/step - loss: 0.1008 - accuracy: 0.9688\n",
      "Epoch 5/30\n",
      "60000/60000 [==============================] - 4s 69us/step - loss: 0.0851 - accuracy: 0.9733\n",
      "Epoch 6/30\n",
      "60000/60000 [==============================] - 4s 64us/step - loss: 0.0774 - accuracy: 0.9747\n",
      "Epoch 7/30\n",
      "60000/60000 [==============================] - 4s 60us/step - loss: 0.0686 - accuracy: 0.9779\n",
      "Epoch 8/30\n",
      "60000/60000 [==============================] - 4s 62us/step - loss: 0.0628 - accuracy: 0.9797\n",
      "Epoch 9/30\n",
      "60000/60000 [==============================] - 4s 66us/step - loss: 0.0578 - accuracy: 0.9803\n",
      "Epoch 10/30\n",
      "60000/60000 [==============================] - 4s 61us/step - loss: 0.0527 - accuracy: 0.9826\n",
      "Epoch 11/30\n",
      "60000/60000 [==============================] - 4s 61us/step - loss: 0.0496 - accuracy: 0.9830\n",
      "Epoch 12/30\n",
      "60000/60000 [==============================] - 4s 60us/step - loss: 0.0450 - accuracy: 0.9849\n",
      "Epoch 13/30\n",
      "60000/60000 [==============================] - 4s 61us/step - loss: 0.0426 - accuracy: 0.9857\n",
      "Epoch 14/30\n",
      "60000/60000 [==============================] - 4s 60us/step - loss: 0.0376 - accuracy: 0.9873\n",
      "Epoch 15/30\n",
      "60000/60000 [==============================] - 4s 60us/step - loss: 0.0384 - accuracy: 0.9872\n",
      "Epoch 16/30\n",
      "60000/60000 [==============================] - 4s 61us/step - loss: 0.0356 - accuracy: 0.9883\n"
     ]
    }
   ],
   "source": [
    "# После двух эпох без улучшения точности в 0.001 обучение прекратится\n",
    "early_stopping_monitor = EarlyStopping(monitor='accuracy', patience=2, min_delta=0.001)\n",
    "\n",
    "# Train the model.\n",
    "model.fit(\n",
    "    train_images,\n",
    "    to_categorical(train_labels),\n",
    "    epochs=30,\n",
    "    batch_size=32,\n",
    "    callbacks=[early_stopping_monitor]\n",
    ")\n",
    "\n",
    "# Save the model to disk.\n",
    "model.save_weights('model.h5')"
   ]
  },
  {
   "cell_type": "code",
   "execution_count": 72,
   "metadata": {},
   "outputs": [
    {
     "name": "stdout",
     "output_type": "stream",
     "text": [
      "10000/10000 [==============================] - 0s 41us/step\n",
      "Ошибка на тестовых данных: 0.08545002939769201\n",
      "Точность на тестовых данных: 0.9786999821662903\n"
     ]
    }
   ],
   "source": [
    "# Evaluate the model.\n",
    "test_loss, test_acc = model.evaluate(\n",
    "    test_images,\n",
    "    to_categorical(test_labels)\n",
    ")\n",
    "\n",
    "print('Ошибка на тестовых данных:', test_loss)\n",
    "print('Точность на тестовых данных:', test_acc)"
   ]
  },
  {
   "cell_type": "markdown",
   "metadata": {},
   "source": [
    "#### Результат который получается при исходном обучении"
   ]
  },
  {
   "cell_type": "markdown",
   "metadata": {},
   "source": [
    "#### Train the model.\n",
    "model.fit(<br>\n",
    "    train_images,<br>\n",
    "    to_categorical(train_labels),<br>\n",
    "    epochs=5,<br>\n",
    "    batch_size=32<br>\n",
    ")<br>\n",
    "\n",
    "#### Save the model to disk.\n",
    "model.save_weights('model.h5')<br>\n",
    "\n",
    "Epoch 1/5<br>\n",
    "60000/60000 [==============================] - 6s 93us/step - loss: 0.3532 - accuracy: 0.8938<br>\n",
    "Epoch 2/5<br>\n",
    "60000/60000 [==============================] - 5s 80us/step - loss: 0.1859 - accuracy: 0.9438<br>\n",
    "Epoch 3/5<br>\n",
    "60000/60000 [==============================] - 3s 57us/step - loss: 0.1432 - accuracy: 0.9561<br>\n",
    "Epoch 4/5<br>\n",
    "60000/60000 [==============================] - 4s 74us/step - loss: 0.1191 - accuracy: 0.9633 0s - loss: 0.1<br>\n",
    "Epoch 5/5<br>\n",
    "60000/60000 [==============================] - 4s 63us/step - loss: 0.1034 - accuracy: 0.9680"
   ]
  },
  {
   "cell_type": "markdown",
   "metadata": {},
   "source": [
    "#### Evaluate the model.\n",
    "test_loss, test_acc = model.evaluate(<br>\n",
    "    test_images,<br>\n",
    "    to_categorical(test_labels)<br>\n",
    ")<br>\n",
    "\n",
    "print('Ошибка на тестовых данных:', test_loss)<br>\n",
    "print('Точность на тестовых данных:', test_acc)<br>\n",
    "\n",
    "10000/10000 [==============================] - 0s 32us/step<br>\n",
    "Ошибка на тестовых данных: 0.10802537681944668<br>\n",
    "Точность на тестовых данных: 0.9661999940872192"
   ]
  },
  {
   "cell_type": "markdown",
   "metadata": {},
   "source": [
    "##### Улучшил результат с 0.9661999940872192 до 0.9786999821662903"
   ]
  },
  {
   "cell_type": "code",
   "execution_count": 74,
   "metadata": {},
   "outputs": [
    {
     "name": "stdout",
     "output_type": "stream",
     "text": [
      "[7 2 1 0 4]\n",
      "[7 2 1 0 4]\n"
     ]
    }
   ],
   "source": [
    "# Load the model from disk later using:\n",
    "# model.load_weights('model.h5')\n",
    "\n",
    "# Predict on the first 5 test images.\n",
    "predictions = model.predict(test_images[:5])\n",
    "\n",
    "# Print our model's predictions.\n",
    "print(np.argmax(predictions, axis=1)) # [7, 2, 1, 0, 4]\n",
    "\n",
    "# Check our predictions against the ground truths.\n",
    "print(test_labels[:5]) # [7, 2, 1, 0, 4]"
   ]
  },
  {
   "cell_type": "code",
   "execution_count": 75,
   "metadata": {},
   "outputs": [
    {
     "data": {
      "text/plain": [
       "array([7, 2, 1, 0, 4], dtype=int64)"
      ]
     },
     "execution_count": 75,
     "metadata": {},
     "output_type": "execute_result"
    }
   ],
   "source": [
    "# predict_classes позволяет срузу получить метки классов\n",
    "predictions = model.predict_classes(test_images[:5])\n",
    "predictions"
   ]
  },
  {
   "cell_type": "code",
   "execution_count": 76,
   "metadata": {},
   "outputs": [
    {
     "data": {
      "text/plain": [
       "['/job:localhost/replica:0/task:0/device:GPU:0']"
      ]
     },
     "execution_count": 76,
     "metadata": {},
     "output_type": "execute_result"
    }
   ],
   "source": [
    "# Посмотрим на доступную видео-карту\n",
    "backend.tensorflow_backend._get_available_gpus()"
   ]
  },
  {
   "cell_type": "markdown",
   "metadata": {},
   "source": [
    "## Результаты практического задания:\n",
    "1. Увеличил точность модели на тестовых данных с 0.9664999842643738, до 0.9786999821662903. Этого удалось добиться за счёт увеличения чила эпох и числа нейронов в первом слое.<br>\n",
    "2. Полезные команды Keras неразобранные на уроке:<br>\n",
    "    2.1. Из метода evaluate получены параметры для оценки ошибки и точности тестовых данных.<br>\n",
    "    2.2. EarlyStopping позволяет закончить обучение если результаты больше не улучшаются.<br>\n",
    "    2.3. predict_classes позволяет срузу получить метки классов<br>\n",
    "    2.4. backend.tensorflow_backend._get_available_gpus позволяет увидеть доступные видеокарты"
   ]
  },
  {
   "cell_type": "code",
   "execution_count": null,
   "metadata": {},
   "outputs": [],
   "source": []
  }
 ],
 "metadata": {
  "kernelspec": {
   "display_name": "TensorFlow-GPU-1.13",
   "language": "python",
   "name": "tf-gpu"
  },
  "language_info": {
   "codemirror_mode": {
    "name": "ipython",
    "version": 3
   },
   "file_extension": ".py",
   "mimetype": "text/x-python",
   "name": "python",
   "nbconvert_exporter": "python",
   "pygments_lexer": "ipython3",
   "version": "3.7.7"
  }
 },
 "nbformat": 4,
 "nbformat_minor": 4
}
